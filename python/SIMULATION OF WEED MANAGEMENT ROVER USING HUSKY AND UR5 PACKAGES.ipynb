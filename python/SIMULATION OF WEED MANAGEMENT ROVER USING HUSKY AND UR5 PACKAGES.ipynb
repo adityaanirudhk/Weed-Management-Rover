{
 "cells": [
  {
   "cell_type": "markdown",
   "id": "6cfd6fb9",
   "metadata": {},
   "source": [
    "# SIMULATION OF WEED MANAGEMENT ROVER USING HUSKY AND UR5 PACKAGES\n",
    "\n",
    "THIS IPYNB CONSISTS OF A COLLECTION OF CODE SNIPPETS FOR SIMULATION OF THE WEED MANAGEMENT ROVER."
   ]
  },
  {
   "cell_type": "code",
   "execution_count": null,
   "id": "6586c3b4",
   "metadata": {},
   "outputs": [],
   "source": [
    "**Make sure you have the husky_simulator packages and husky_ur5_moveit_config packages installed.This tutorial also assumes you have ROS, Gazebo, and RViz installed on your system.**"
   ]
  },
  {
   "cell_type": "code",
   "execution_count": null,
   "id": "9b96c86d",
   "metadata": {},
   "outputs": [],
   "source": [
    "sudo apt-get install ros-indigo-husky-* && ros-indigo-ur-kinematics"
   ]
  },
  {
   "cell_type": "code",
   "execution_count": null,
   "id": "b324811f",
   "metadata": {},
   "outputs": [],
   "source": [
    "mkdir -p devel_ws/src && cd devel_ws/src && catkin_init_workspace"
   ]
  },
  {
   "cell_type": "code",
   "execution_count": null,
   "id": "aaad6866",
   "metadata": {},
   "outputs": [],
   "source": [
    "git clone -b jade-devel https://github.com/ros-planning/moveit_ros\n",
    "git clone -b jade-devel https://github.com/ros-planning/moveit_msgs\n",
    "git clone -b indigo-devel https://github.com/ros-planning/moveit_core"
   ]
  },
  {
   "cell_type": "code",
   "execution_count": null,
   "id": "dc0d6d73",
   "metadata": {},
   "outputs": [],
   "source": [
    "catkin_make install"
   ]
  },
  {
   "cell_type": "code",
   "execution_count": null,
   "id": "a1ba18ee",
   "metadata": {},
   "outputs": [],
   "source": [
    "Before running each command in this tutorial, run this command or add it to your ~/.bashrc file:"
   ]
  },
  {
   "cell_type": "code",
   "execution_count": null,
   "id": "f0add95a",
   "metadata": {},
   "outputs": [],
   "source": [
    "source ~/devel_ws/devel/setup.bash"
   ]
  },
  {
   "cell_type": "markdown",
   "id": "1ee09aca",
   "metadata": {},
   "source": [
    "# BRING UP GAZEBO"
   ]
  },
  {
   "cell_type": "code",
   "execution_count": null,
   "id": "212c77d8",
   "metadata": {},
   "outputs": [],
   "source": [
    "**Running the launch file which will bring up Gazebo with the Husky + UR5.**"
   ]
  },
  {
   "cell_type": "code",
   "execution_count": null,
   "id": "ed59bc6f",
   "metadata": {},
   "outputs": [],
   "source": [
    "roslaunch husky_gazebo husky_playpen.launch ur5_enabled:=true laser_enabled:=false"
   ]
  },
  {
   "cell_type": "markdown",
   "id": "b8f93ac4",
   "metadata": {},
   "source": [
    "# STOW THE ARM TO HOME POSITION"
   ]
  },
  {
   "cell_type": "code",
   "execution_count": null,
   "id": "b9c6b48a",
   "metadata": {},
   "outputs": [],
   "source": [
    "**If the arm spawns out in front, likely the stow was disabled for safety reasons. Run the stow script to home the arm, which will move it in the Gazebo simulation.**"
   ]
  },
  {
   "cell_type": "code",
   "execution_count": null,
   "id": "b612bc1a",
   "metadata": {},
   "outputs": [],
   "source": [
    "rosrun husky_control stow_ur5"
   ]
  },
  {
   "cell_type": "markdown",
   "id": "b516106d",
   "metadata": {},
   "source": [
    "# HEADING TO RVIZ "
   ]
  },
  {
   "cell_type": "code",
   "execution_count": null,
   "id": "c93e7b78",
   "metadata": {},
   "outputs": [],
   "source": [
    "roslaunch husky_ur5_moveit_config husky_ur5_planning_execution.launch sim:=true limited:=true"
   ]
  },
  {
   "cell_type": "code",
   "execution_count": null,
   "id": "761e3242",
   "metadata": {},
   "outputs": [],
   "source": [
    "roslaunch husky_ur5_moveit_config moveit_rviz.launch config:=true"
   ]
  },
  {
   "cell_type": "markdown",
   "id": "92593af4",
   "metadata": {},
   "source": [
    "# NOTE\n",
    "\n",
    "THIS CAN ONLY BE EXECUTED IN LINUX/UBUNTU ROS KINETIC-MELODIC. SO MAKE SURE YOU HAVE THE PACKAGES INSTALLED ONTO YOUR LINUX MACHINE"
   ]
  },
  {
   "cell_type": "code",
   "execution_count": null,
   "id": "3884d056",
   "metadata": {},
   "outputs": [],
   "source": [
    "BEST WISHES- K.ADITYA ANIRUDH"
   ]
  },
  {
   "cell_type": "code",
   "execution_count": null,
   "id": "1d63999d",
   "metadata": {},
   "outputs": [],
   "source": []
  }
 ],
 "metadata": {
  "kernelspec": {
   "display_name": "Python 3 (ipykernel)",
   "language": "python",
   "name": "python3"
  },
  "language_info": {
   "codemirror_mode": {
    "name": "ipython",
    "version": 3
   },
   "file_extension": ".py",
   "mimetype": "text/x-python",
   "name": "python",
   "nbconvert_exporter": "python",
   "pygments_lexer": "ipython3",
   "version": "3.11.0"
  }
 },
 "nbformat": 4,
 "nbformat_minor": 5
}
